{
 "metadata": {
  "language_info": {
   "codemirror_mode": {
    "name": "ipython",
    "version": 3
   },
   "file_extension": ".py",
   "mimetype": "text/x-python",
   "name": "python",
   "nbconvert_exporter": "python",
   "pygments_lexer": "ipython3",
   "version": "3.7.3-final"
  },
  "orig_nbformat": 2,
  "kernelspec": {
   "name": "python37364bitbaseae6df8db46b74e44909d35d8291001a5",
   "display_name": "Python 3.7.3 64-bit ('base')"
  }
 },
 "nbformat": 4,
 "nbformat_minor": 2,
 "cells": [
  {
   "cell_type": "code",
   "execution_count": 3,
   "metadata": {},
   "outputs": [],
   "source": [
    "from keras.datasets import mnist # load datasets"
   ]
  },
  {
   "cell_type": "code",
   "execution_count": 4,
   "metadata": {},
   "outputs": [],
   "source": [
    "(train_images,train_labels),(test_images,test_labels) = mnist.load_data() # split our dataset with respect to data and label"
   ]
  },
  {
   "cell_type": "code",
   "execution_count": 5,
   "metadata": {},
   "outputs": [
    {
     "output_type": "stream",
     "name": "stdout",
     "text": [
      "Shape of train_images  (60000, 28, 28)\nshape of train_labels  (60000,)\nshape of test_images  (10000, 28, 28)\nshape of test_labels  (10000,)\n"
     ]
    }
   ],
   "source": [
    "print('Shape of train_images ',train_images.shape)\n",
    "print('shape of train_labels ',train_labels.shape)\n",
    "print('shape of test_images ',test_images.shape)\n",
    "print('shape of test_labels ',test_labels.shape)\n"
   ]
  },
  {
   "cell_type": "code",
   "execution_count": 6,
   "metadata": {},
   "outputs": [],
   "source": [
    "from keras import models,layers\n",
    "network = models.Sequential()"
   ]
  },
  {
   "cell_type": "code",
   "execution_count": 7,
   "metadata": {},
   "outputs": [],
   "source": [
    "network.add(layers.Dense(512,activation='relu',input_shape = (28*28,)))\n",
    "network.add(layers.Dense(256,activation='relu'))\n",
    "network.add(layers.Dense(10,activation='softmax'))\n",
    "network.compile(optimizer='rmsprop',loss='categorical_crossentropy',metrics=['accuracy'])\n"
   ]
  },
  {
   "cell_type": "code",
   "execution_count": 30,
   "metadata": {},
   "outputs": [],
   "source": [
    "train_images = train_images.reshape((60000,28*28))\n",
    "train_images = train_images.astype('float32')/255\n",
    "test_images = test_images.reshape((10000,28*28))\n",
    "test_images = test_images.astype('float32')/255\n"
   ]
  },
  {
   "cell_type": "code",
   "execution_count": 31,
   "metadata": {},
   "outputs": [],
   "source": [
    "from keras.utils import to_categorical\n",
    "train_labels = to_categorical(train_labels)\n",
    "test_labels = to_categorical(test_labels)\n"
   ]
  },
  {
   "cell_type": "code",
   "execution_count": 32,
   "metadata": {},
   "outputs": [
    {
     "output_type": "stream",
     "name": "stdout",
     "text": [
      "Shape of train_images  (60000, 784)\nshape of train_labels  (60000, 10, 2)\nshape of test_images  (10000, 784)\nshape of test_labels  (10000, 10, 2)\n"
     ]
    }
   ],
   "source": [
    "print('Shape of train_images ',train_images.shape)\n",
    "print('shape of train_labels ',train_labels.shape)\n",
    "print('shape of test_images ',test_images.shape)\n",
    "print('shape of test_labels ',test_labels.shape)"
   ]
  },
  {
   "cell_type": "code",
   "execution_count": 11,
   "metadata": {},
   "outputs": [
    {
     "output_type": "stream",
     "name": "stdout",
     "text": [
      "WARNING:tensorflow:From C:\\Users\\shariq\\Anaconda3\\lib\\site-packages\\keras\\backend\\tensorflow_backend.py:422: The name tf.global_variables is deprecated. Please use tf.compat.v1.global_variables instead.\n",
      "\n",
      "Epoch 1/5\n",
      "60000/60000 [==============================] - 10s 171us/step - loss: 0.2281 - accuracy: 0.9307\n",
      "Epoch 2/5\n",
      "60000/60000 [==============================] - 7s 112us/step - loss: 0.0831 - accuracy: 0.9745\n",
      "Epoch 3/5\n",
      "60000/60000 [==============================] - 7s 123us/step - loss: 0.0556 - accuracy: 0.9828\n",
      "Epoch 4/5\n",
      "60000/60000 [==============================] - 10s 165us/step - loss: 0.0393 - accuracy: 0.9874\n",
      "Epoch 5/5\n",
      "60000/60000 [==============================] - 11s 188us/step - loss: 0.0296 - accuracy: 0.9903\n"
     ]
    },
    {
     "output_type": "execute_result",
     "data": {
      "text/plain": [
       "<keras.callbacks.callbacks.History at 0x2c1f4f93ef0>"
      ]
     },
     "metadata": {},
     "execution_count": 11
    }
   ],
   "source": [
    "network.fit(train_images,train_labels,epochs=5,batch_size = 128)\n"
   ]
  },
  {
   "cell_type": "code",
   "execution_count": 35,
   "metadata": {},
   "outputs": [
    {
     "output_type": "execute_result",
     "data": {
      "text/plain": [
       "array([[1., 0.],\n",
       "       [1., 0.],\n",
       "       [1., 0.],\n",
       "       [1., 0.],\n",
       "       [1., 0.],\n",
       "       [0., 1.],\n",
       "       [1., 0.],\n",
       "       [1., 0.],\n",
       "       [1., 0.],\n",
       "       [1., 0.]], dtype=float32)"
      ]
     },
     "metadata": {},
     "execution_count": 35
    }
   ],
   "source": [
    "train_labels[0]"
   ]
  },
  {
   "cell_type": "code",
   "execution_count": 52,
   "metadata": {},
   "outputs": [
    {
     "output_type": "stream",
     "name": "stdout",
     "text": [
      "Model: \"sequential_1\"\n_________________________________________________________________\nLayer (type)                 Output Shape              Param #   \n=================================================================\ndense_1 (Dense)              (None, 512)               401920    \n_________________________________________________________________\ndense_2 (Dense)              (None, 256)               131328    \n_________________________________________________________________\ndense_3 (Dense)              (None, 10)                2570      \n=================================================================\nTotal params: 535,818\nTrainable params: 535,818\nNon-trainable params: 0\n_________________________________________________________________\n"
     ]
    }
   ],
   "source": [
    "network.summary()"
   ]
  },
  {
   "cell_type": "code",
   "execution_count": 57,
   "metadata": {},
   "outputs": [
    {
     "output_type": "stream",
     "name": "stdout",
     "text": [
      "Model: \"sequential_1\"\n_________________________________________________________________\nLayer (type)                 Output Shape              Param #   \n=================================================================\ndense_1 (Dense)              (None, 512)               401920    \n_________________________________________________________________\ndense_2 (Dense)              (None, 256)               131328    \n_________________________________________________________________\ndense_3 (Dense)              (None, 10)                2570      \n=================================================================\nTotal params: 535,818\nTrainable params: 535,818\nNon-trainable params: 0\n_________________________________________________________________\n"
     ]
    }
   ],
   "source": []
  },
  {
   "cell_type": "code",
   "execution_count": 13,
   "metadata": {},
   "outputs": [],
   "source": [
    "# from keras.datasets import mnist # load datasets\n",
    "# (train_images,train_labels),(test_images,test_labels) = mnist.load_data() # split our dataset with respect to data and label\n",
    "# print('Shape of train_images ',train_images.shape)\n",
    "# print('shape of train_labels ',train_labels.shape)\n",
    "# print('shape of test_images ',test_images.shape)\n",
    "# print('shape of test_labels ',test_labels.shape)\n",
    "# from keras import models,layers\n",
    "# network = models.Sequential()\n",
    "# network.add(layers.Dense(512,activation='relu',input_shape = (28*28,)))\n",
    "# # network.add(layers.Dense(256,activation='relu'))\n",
    "# network.add(layers.Dense(10,activation='softmax'))\n",
    "# network.compile(optimizer='rmsprop',loss='categorical_crossentropy',metrics=['accuracy'])\n",
    "# train_images = train_images.reshape((60000,28*28))\n",
    "# train_images = train_images.astype('float32')/255\n",
    "# test_images = test_images.reshape((10000,28*28))\n",
    "# test_images = test_images.astype('float32')/255\n",
    "# from keras.utils import to_categorical\n",
    "# train_labels = to_categorical(test_labels)\n",
    "# test_labels = to_categorical(test_labels)\n",
    "# print('Shape of train_images ',train_images.shape)\n",
    "# print('shape of train_labels ',train_labels.shape)\n",
    "# print('shape of test_images ',test_images.shape)\n",
    "# print('shape of test_labels ',test_labels.shape)\n",
    "# network.fit(train_images,train_labels,epochs=5,batch_size = 128)\n"
   ]
  },
  {
   "cell_type": "code",
   "execution_count": 14,
   "metadata": {},
   "outputs": [
    {
     "output_type": "stream",
     "name": "stdout",
     "text": [
      "10000/10000 [==============================] - 1s 127us/step\n"
     ]
    }
   ],
   "source": [
    "test_loss,tess_acc = network.evaluate(test_images,test_labels)"
   ]
  },
  {
   "cell_type": "code",
   "execution_count": 15,
   "metadata": {},
   "outputs": [
    {
     "output_type": "stream",
     "name": "stdout",
     "text": [
      "test_accuracy 0.9811000227928162, test_loss 0.07467726200748438\n"
     ]
    }
   ],
   "source": [
    "print('test_accuracy {}, test_loss {}'.format(tess_acc,test_loss))"
   ]
  },
  {
   "cell_type": "code",
   "execution_count": 15,
   "metadata": {},
   "outputs": [
    {
     "output_type": "execute_result",
     "data": {
      "text/plain": [
       "(784,)"
      ]
     },
     "metadata": {},
     "execution_count": 15
    }
   ],
   "source": []
  },
  {
   "cell_type": "code",
   "execution_count": 62,
   "metadata": {},
   "outputs": [
    {
     "output_type": "execute_result",
     "data": {
      "text/plain": [
       "<keras.callbacks.callbacks.History at 0x2c1f4f93ef0>"
      ]
     },
     "metadata": {},
     "execution_count": 62
    }
   ],
   "source": [
    "network."
   ]
  },
  {
   "cell_type": "code",
   "execution_count": null,
   "metadata": {},
   "outputs": [],
   "source": []
  }
 ]
}